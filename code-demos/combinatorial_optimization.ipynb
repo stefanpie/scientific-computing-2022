{
 "cells": [
  {
   "attachments": {},
   "cell_type": "markdown",
   "metadata": {},
   "source": [
    "# Combinatorial Optimization"
   ]
  },
  {
   "attachments": {},
   "cell_type": "markdown",
   "metadata": {},
   "source": [
    "Let's examine some combinatorial optimization problems. Combinatorial optimizations can be solved a number of ways so we will explore a few different approaches as we look at some examples."
   ]
  },
  {
   "attachments": {},
   "cell_type": "markdown",
   "metadata": {},
   "source": [
    "## Linear Assignment Problem\n",
    "\n",
    "A linear assignment problem is a problem where we have a set of \"workers\" and a set of \"jobs\" and we want to assign each \"worker\" to a \"job\" in such a way that the total cost is minimized. The cost of assigning \"worker\" $i$ to \"job\" $j$ is given by $c_{ij}$ which is defined by the specifc problem being analyzed.\n",
    "\n",
    "In the simplest case of a *balanced assignment*, the number of workers and jobs are the same where each worker can only be assigned to one job and each job can only be assigned to one worker.\n",
    "\n",
    "In the *unbalanced assignment* case, there are more \"workers\" than \"jobs\" or more \"jobs\" than \"workers\". In this case, we can add dummy \"workers\" or dummy \"jobs\" to make the problem balanced and assign a aribitrary cost (whatever makes sense for the problem, ex. 0 or $\\infty$) for the dummy \"workers\" or \"jobs\".\n",
    "\n",
    "In general, we can think of the problem in more genreal therms of assigning \"things\" from set $A$ to \"other things\" from set $B$. In math terms, we are finding a bijection $f: A \\rightarrow B$ such that the total cost is minimized. This is also viewed as a bipartite graph problem where the \"things\" from set $A$ are on one side of the graph and the \"other things\" from set $B$ are on the other side of the graph. The cost of assigning \"thing\" $a$ from set $A$ to \"other thing\" $b$ from set $B$ is given by $c_{ab}$."
   ]
  },
  {
   "attachments": {},
   "cell_type": "markdown",
   "metadata": {},
   "source": [
    "### The Hospital-Resident Assignment Problem\n",
    "\n",
    "Every year, medical students in the United States apply to residency and fellowship programs. Each student ranks a set of programs in order of preference, and each program ranks a set of interested students in order of their own preference. The goal is to match each student to a program in a way that maximizes preferences, taking into account details such as the number of spots available at each program and the number of students applying.\n",
    "\n",
    "This example is not made up. The National Resident Matching Program (NRMP) is responsible for matching medical students to residency and fellowship programs each year. The NRMP solves a more complex version of this problem to match all medical students in the US who go through the matching process. One important change is that the NRMP considers couples in the matching process, attempting to match them to a set of programs in the same city/area.Administrative processes are also in place for students who don't receive any matches after the initial matching process to follow up with programs that still have open spots. The NRMP's actual algorithm and match data for each year are available on their website.\n",
    "\n",
    "The history around this problem is also generally interesting. The core algorithm was first proven in 1962 to always have a \"stable\" solution in response to student concerns about unfairness. They were also able to show that the algorithm can provide both student-optimal and program-optimal solutions depending on how it is implemented. One of the authors later won the 2012 Nobel Prize in Economics for their work on stable allocation, which involves applying similar thinking to economic problems."
   ]
  },
  {
   "attachments": {},
   "cell_type": "markdown",
   "metadata": {},
   "source": []
  },
  {
   "cell_type": "code",
   "execution_count": null,
   "metadata": {},
   "outputs": [],
   "source": []
  }
 ],
 "metadata": {
  "language_info": {
   "name": "python"
  },
  "orig_nbformat": 4
 },
 "nbformat": 4,
 "nbformat_minor": 2
}
